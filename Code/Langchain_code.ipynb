{
 "cells": [
  {
   "cell_type": "code",
   "execution_count": null,
   "id": "4faaa0f5",
   "metadata": {},
   "outputs": [],
   "source": [
    "#Install the below set of libraries of langchain if not installed alredy\n",
    "#!pip install langchain_community langchainhub chromadb langchain langchain-openai"
   ]
  },
  {
   "cell_type": "code",
   "execution_count": null,
   "id": "d1e547e1",
   "metadata": {},
   "outputs": [],
   "source": [
    "#!pip install python-dotenv"
   ]
  },
  {
   "cell_type": "code",
   "execution_count": null,
   "id": "721bd4d0",
   "metadata": {},
   "outputs": [],
   "source": [
    "import os\n",
    "from dotenv import load_dotenv\n",
    "\n",
    "#Load environment variables from .env file\n",
    "load_dotenv()\n",
    "\n",
    "#Access the Openai key stored in .env file\n",
    "open_api_key = os.getenv(\"OPENAI_API_KEY\")"
   ]
  },
  {
   "cell_type": "code",
   "execution_count": null,
   "id": "b7917ecf",
   "metadata": {},
   "outputs": [],
   "source": [
    "import openai\n",
    "openai.api_key = open_api_key"
   ]
  },
  {
   "cell_type": "code",
   "execution_count": null,
   "id": "0d296c1e",
   "metadata": {},
   "outputs": [],
   "source": [
    "from langchain_community.document_loaders import WebBaseLoader\n",
    "\n",
    "loader = WebBaseLoader(web_paths=[\"https://www.educosys.com/course/genai\"])\n",
    "\n",
    "docs = loader.load()\n",
    "print(docs)"
   ]
  },
  {
   "cell_type": "code",
   "execution_count": null,
   "id": "072884a6",
   "metadata": {},
   "outputs": [],
   "source": [
    "from langchain.text_splitter import RecursiveCharacterTextSplitter\n",
    "\n",
    "text_splitter = RecursiveCharacterTextSplitter(chunk_size=1000, chunk_overlap=200)\n",
    "\n",
    "splits = text_splitter.split_documents(docs)\n",
    "\n",
    "print(splits[0])\n",
    "print(splits[1])"
   ]
  },
  {
   "cell_type": "code",
   "execution_count": null,
   "id": "4d099212",
   "metadata": {},
   "outputs": [],
   "source": [
    "print(len(splits))"
   ]
  },
  {
   "cell_type": "code",
   "execution_count": null,
   "id": "88357d30",
   "metadata": {},
   "outputs": [],
   "source": [
    "from langchain.embeddings.openai import OpenAIEmbeddings\n",
    "from langchain.vectorstores import Chroma\n",
    "\n",
    "vectorstore = Chroma.from_documents(documents=splits, embedding= OpenAIEmbeddings())"
   ]
  },
  {
   "cell_type": "code",
   "execution_count": null,
   "id": "bb2c7ca3",
   "metadata": {},
   "outputs": [],
   "source": [
    "print(vectorstore._collection.count())"
   ]
  },
  {
   "cell_type": "code",
   "execution_count": null,
   "id": "d7d6b403",
   "metadata": {},
   "outputs": [],
   "source": [
    "retriever =  vectorstore.as_retriever()"
   ]
  },
  {
   "cell_type": "code",
   "execution_count": null,
   "id": "8072db17",
   "metadata": {},
   "outputs": [],
   "source": [
    "from langchain import hub\n",
    "prompt = hub.pull(\"rlm/rag-prompt\")"
   ]
  },
  {
   "cell_type": "code",
   "execution_count": null,
   "id": "4caccbd1",
   "metadata": {},
   "outputs": [],
   "source": [
    "#Setup LLM\n",
    "from langchain_openai import ChatOpenAI\n",
    "llm = ChatOpenAI()"
   ]
  },
  {
   "cell_type": "code",
   "execution_count": null,
   "id": "cf5500e9",
   "metadata": {},
   "outputs": [],
   "source": [
    "from langchain_core.runnables import RunnablePassthrough\n",
    "from langchain_core.output_parsers import StrOutputParser"
   ]
  },
  {
   "cell_type": "code",
   "execution_count": null,
   "id": "6e7e8bb4",
   "metadata": {},
   "outputs": [],
   "source": [
    "def format_docs(docs):\n",
    "    return (\"\\n\".join(doc.page_content for doc in docs))\n",
    "\n",
    "rag_chain = ({\"context\": retriever | format_docs,\"question\": RunnablePassthrough()}\n",
    "             | prompt\n",
    "             | llm\n",
    "             | StrOutputParser())"
   ]
  },
  {
   "cell_type": "code",
   "execution_count": null,
   "id": "abe55549",
   "metadata": {},
   "outputs": [],
   "source": [
    "rag_chain.invoke(\"Are there recordings of the course available?\")"
   ]
  },
  {
   "cell_type": "code",
   "execution_count": null,
   "id": "0f71e28c",
   "metadata": {},
   "outputs": [],
   "source": [
    "rag_chain.invoke(\"Are there testimonials of the course available?\")"
   ]
  },
  {
   "cell_type": "code",
   "execution_count": null,
   "id": "e174a6b3",
   "metadata": {},
   "outputs": [],
   "source": [
    "rag_chain.invoke(\"Are there recordings of the course available? Name of the students who have shared the their testimonials\")"
   ]
  }
 ],
 "metadata": {
  "kernelspec": {
   "display_name": "Python 3",
   "language": "python",
   "name": "python3"
  },
  "language_info": {
   "codemirror_mode": {
    "name": "ipython",
    "version": 3
   },
   "file_extension": ".py",
   "mimetype": "text/x-python",
   "name": "python",
   "nbconvert_exporter": "python",
   "pygments_lexer": "ipython3",
   "version": "3.12.1"
  }
 },
 "nbformat": 4,
 "nbformat_minor": 5
}
